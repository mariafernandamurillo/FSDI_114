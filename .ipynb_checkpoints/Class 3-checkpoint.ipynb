{
 "cells": [
  {
   "cell_type": "code",
   "execution_count": 1,
   "id": "88aa3405",
   "metadata": {},
   "outputs": [],
   "source": [
    "#Simplified implementation of queue\n",
    "\n",
    "class Queue:\n",
    "    def __init__(self):\n",
    "        self.items = []\n",
    "        \n",
    "    def enqueue(self, value):\n",
    "        self.items.insert(0, value)\n",
    "        \n",
    "    def dequeue(self):\n",
    "        return self.items.pop()\n",
    "    \n",
    "    def size(self):\n",
    "        return len(self.items)\n",
    "    \n",
    "    def peek(self):\n",
    "        return self.items[len(self.items)-1]\n",
    "    \n",
    "    def is_empty(self):\n",
    "        return self.items == []"
   ]
  },
  {
   "cell_type": "markdown",
   "id": "c3e7c903",
   "metadata": {},
   "source": [
    "# Problem 3\n",
    "\n",
    "### Create a complex implementation of queue considering the following:\n",
    "\n",
    "1. It should not use any build-in sata structure.\n",
    "1. Each node should hold \"some\" data.\n",
    "1. The ordering principle must be maintained.\n",
    "    1. It must be FIFO."
   ]
  },
  {
   "cell_type": "code",
   "execution_count": 2,
   "id": "bf5442a1",
   "metadata": {},
   "outputs": [
    {
     "name": "stdout",
     "output_type": "stream",
     "text": [
      "F\n",
      "Fe\n",
      "Fer\n"
     ]
    },
    {
     "data": {
      "text/plain": [
       "'Fer'"
      ]
     },
     "execution_count": 2,
     "metadata": {},
     "output_type": "execute_result"
    }
   ],
   "source": [
    "def fifo(word):\n",
    "    q = Queue()\n",
    "    out = \"\"\n",
    "    for char in word:\n",
    "        q.enqueue(char)\n",
    "    while not q.is_empty():\n",
    "        out += q.dequeue()\n",
    "        print(out)\n",
    "    return out\n",
    "\n",
    "fifo(\"Fer\")"
   ]
  },
  {
   "cell_type": "code",
   "execution_count": 3,
   "id": "43be783f",
   "metadata": {},
   "outputs": [
    {
     "name": "stdout",
     "output_type": "stream",
     "text": [
      "List: ['a', 'e', 'i', 'x', 'o', 'x', 'o', 'u']\n"
     ]
    }
   ],
   "source": [
    "\n",
    "vowel = ['a', 'e', 'i', 'u']\n",
    "\n",
    "vowel.insert(3, 'o')\n",
    "vowel.insert(3, 'x')\n",
    "vowel.insert(3, 'o')\n",
    "vowel.insert(3, 'x')\n",
    "\n",
    "print('List:', vowel)\n"
   ]
  },
  {
   "cell_type": "code",
   "execution_count": 4,
   "id": "02c8d81f",
   "metadata": {},
   "outputs": [
    {
     "name": "stdout",
     "output_type": "stream",
     "text": [
      "List: ['x', 'o', 'x', 'o', 'a', 'e', 'i', 'u']\n"
     ]
    }
   ],
   "source": [
    "\n",
    "vowel = ['a', 'e', 'i', 'u']\n",
    "\n",
    "vowel.insert(0, 'o')\n",
    "vowel.insert(0, 'x')\n",
    "vowel.insert(0, 'o')\n",
    "vowel.insert(0, 'x')\n",
    "\n",
    "print('List:', vowel)\n"
   ]
  },
  {
   "cell_type": "code",
   "execution_count": null,
   "id": "d679370b",
   "metadata": {},
   "outputs": [],
   "source": []
  }
 ],
 "metadata": {
  "kernelspec": {
   "display_name": "Python 3 (ipykernel)",
   "language": "python",
   "name": "python3"
  },
  "language_info": {
   "codemirror_mode": {
    "name": "ipython",
    "version": 3
   },
   "file_extension": ".py",
   "mimetype": "text/x-python",
   "name": "python",
   "nbconvert_exporter": "python",
   "pygments_lexer": "ipython3",
   "version": "3.10.6"
  }
 },
 "nbformat": 4,
 "nbformat_minor": 5
}
