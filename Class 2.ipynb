{
 "cells": [
  {
   "cell_type": "code",
   "execution_count": 2,
   "id": "f54aad77",
   "metadata": {},
   "outputs": [],
   "source": [
    "# simplidied implemtation of stack: \n",
    "class Stack: \n",
    "    def __init__(self):\n",
    "        self.items = []\n",
    "        \n",
    "    def push(self, value):\n",
    "        self.items.append(value)\n",
    "        \n",
    "    def pop(self):\n",
    "        return self.items.pop()\n",
    "    \n",
    "    # nice to have methods\n",
    "    \n",
    "    def size(self):\n",
    "        return len(self.items)\n",
    "    \n",
    "    def peek(self):\n",
    "        return self.items[len(self.items)-1]\n",
    "    \n",
    "    def is_empty(self):\n",
    "        return self.items == [ ]"
   ]
  },
  {
   "cell_type": "markdown",
   "id": "3a070958",
   "metadata": {},
   "source": [
    "# Problem 2\n",
    "\n",
    "## Use the stack class above to invert string.\n",
    "\n",
    "```\n",
    "example: \n",
    "given \"Rafael\" your function sould return \"leafaR\"\n",
    "given \"stars\" your function should return \"srats\"\n",
    "given \"cool\" yout function should return \"looc\"\n",
    "```\n",
    "\n",
    "Your function must recieve a string as a parameter and return a string (not a list of anythingh else).\n",
    "\n",
    "Yout function must use the stack class above.\n",
    "\n",
    "You cannot google anything fot this challege.\n",
    "\n",
    "\n",
    "## Suggested function name:\n",
    "\n",
    "```\n",
    "invert(mystring)\n",
    "```"
   ]
  },
  {
   "cell_type": "code",
   "execution_count": 3,
   "id": "45559233",
   "metadata": {
    "scrolled": true
   },
   "outputs": [
    {
     "name": "stdout",
     "output_type": "stream",
     "text": [
      "ref\n"
     ]
    }
   ],
   "source": [
    "def invert(word):\n",
    "    stack = Stack()\n",
    "    drow = \"\"\n",
    "    for char in word:\n",
    "        stack.push(char)\n",
    "    while not stack.is_empty():\n",
    "        drow += stack.pop()\n",
    "    return drow\n",
    "\n",
    "print(invert(\"fer\"))"
   ]
  },
  {
   "cell_type": "code",
   "execution_count": null,
   "id": "ea4e1c59",
   "metadata": {},
   "outputs": [],
   "source": []
  }
 ],
 "metadata": {
  "kernelspec": {
   "display_name": "Python 3 (ipykernel)",
   "language": "python",
   "name": "python3"
  },
  "language_info": {
   "codemirror_mode": {
    "name": "ipython",
    "version": 3
   },
   "file_extension": ".py",
   "mimetype": "text/x-python",
   "name": "python",
   "nbconvert_exporter": "python",
   "pygments_lexer": "ipython3",
   "version": "3.10.6"
  }
 },
 "nbformat": 4,
 "nbformat_minor": 5
}
