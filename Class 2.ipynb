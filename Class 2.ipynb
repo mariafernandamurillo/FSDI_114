{
 "cells": [
  {
   "cell_type": "code",
   "execution_count": 2,
   "id": "f54aad77",
   "metadata": {},
   "outputs": [],
   "source": [
    "# simplidied implemtation of stack: \n",
    "class Stack: \n",
    "    def __init__(self):\n",
    "        self.items = []\n",
    "        \n",
    "    def push(self, value):\n",
    "        self.items.append(value)\n",
    "        \n",
    "    def pop(self):\n",
    "        return self.items.pop()\n",
    "    \n",
    "    # nice to have methods\n",
    "    \n",
    "    def size(self):\n",
    "        return len(self.items)\n",
    "    \n",
    "    def peek(self):\n",
    "        return self.items[len(self.items)-1]\n",
    "    \n",
    "    def is_empty(self):\n",
    "        return self.items == [ ]"
   ]
  },
  {
   "cell_type": "markdown",
   "id": "3a070958",
   "metadata": {},
   "source": [
    "# Problem 2\n",
    "\n",
    "## Use the stack class above to invert string.\n",
    "\n",
    "```\n",
    "example: \n",
    "given \"Rafael\" your function sould return \"leafaR\"\n",
    "given \"stars\" your function should return \"srats\"\n",
    "given \"cool\" yout function should return \"looc\"\n",
    "```\n",
    "\n",
    "Your function must recieve a string as a parameter and return a string (not a list of anythingh else).\n",
    "\n",
    "Yout function must use the stack class above.\n",
    "\n",
    "You cannot google anything fot this challege.\n",
    "\n",
    "\n",
    "## Suggested function name:\n",
    "\n",
    "```\n",
    "invert(mystring)\n",
    "```"
   ]
  },
  {
   "cell_type": "code",
   "execution_count": 6,
   "id": "45559233",
   "metadata": {},
   "outputs": [
    {
     "ename": "TypeError",
     "evalue": "Stack.size() takes 1 positional argument but 2 were given",
     "output_type": "error",
     "traceback": [
      "\u001b[0;31m---------------------------------------------------------------------------\u001b[0m",
      "\u001b[0;31mTypeError\u001b[0m                                 Traceback (most recent call last)",
      "Cell \u001b[0;32mIn[6], line 5\u001b[0m\n\u001b[1;32m      1\u001b[0m stack \u001b[38;5;241m=\u001b[39m Stack()\n\u001b[1;32m      3\u001b[0m string \u001b[38;5;241m=\u001b[39m \u001b[38;5;124m\"\u001b[39m\u001b[38;5;124mFerr\u001b[39m\u001b[38;5;124m\"\u001b[39m\n\u001b[0;32m----> 5\u001b[0m \u001b[43mstack\u001b[49m\u001b[38;5;241;43m.\u001b[39;49m\u001b[43msize\u001b[49m\u001b[43m(\u001b[49m\u001b[43mstring\u001b[49m\u001b[43m)\u001b[49m\n",
      "\u001b[0;31mTypeError\u001b[0m: Stack.size() takes 1 positional argument but 2 were given"
     ]
    }
   ],
   "source": [
    "stack = Stack()\n",
    "\n",
    "string = \"Ferr\"\n",
    "\n",
    "stack.size(string)"
   ]
  },
  {
   "cell_type": "code",
   "execution_count": null,
   "id": "776a3079",
   "metadata": {},
   "outputs": [],
   "source": []
  }
 ],
 "metadata": {
  "kernelspec": {
   "display_name": "Python 3 (ipykernel)",
   "language": "python",
   "name": "python3"
  },
  "language_info": {
   "codemirror_mode": {
    "name": "ipython",
    "version": 3
   },
   "file_extension": ".py",
   "mimetype": "text/x-python",
   "name": "python",
   "nbconvert_exporter": "python",
   "pygments_lexer": "ipython3",
   "version": "3.10.6"
  }
 },
 "nbformat": 4,
 "nbformat_minor": 5
}
