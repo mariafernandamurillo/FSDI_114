{
 "cells": [
  {
   "cell_type": "code",
   "execution_count": 2,
   "id": "3de11c04",
   "metadata": {},
   "outputs": [
    {
     "name": "stdout",
     "output_type": "stream",
     "text": [
      "H\n",
      "e\n",
      "l\n",
      "l\n",
      "o\n",
      ",\n",
      " \n",
      "w\n",
      "o\n",
      "r\n",
      "l\n",
      "d\n",
      "!\n"
     ]
    }
   ],
   "source": [
    "for letter in \"Hello, world!\":\n",
    "    print(letter)"
   ]
  },
  {
   "cell_type": "markdown",
   "id": "cb0b352a",
   "metadata": {},
   "source": [
    "# Problem 1\n",
    "\n",
    "### Anagram check \n",
    "\n",
    "Create a function that takes two strings as parameters and returns True if they are anagrams of each other, False otherwise. \n",
    "\n",
    "```\n",
    "Examples:\n",
    "1. heart and earth.\n",
    "2. scar and cars.\n",
    "3. star and rats. \n",
    "etc \n",
    "```\n",
    "\n",
    "### Criteria\n",
    "Two string are anagrams of each other if and only if all of the criteria below are met:\n",
    "> 1. They must use all the same characters.\n",
    "> 2. They must be of exactly the same length (in chacracters)."
   ]
  },
  {
   "cell_type": "code",
   "execution_count": 23,
   "id": "ceee771c",
   "metadata": {},
   "outputs": [],
   "source": [
    "def anagram():\n",
    "    word_one = input('Write the first word:')\n",
    "    word_two = input(\"Write the second word: \")\n",
    "    \n",
    "    if len(word_one) == len(word_two):\n",
    "        print(\"Sí es\")\n",
    "    else:\n",
    "        print(\"Nel\")\n",
    "    "
   ]
  },
  {
   "cell_type": "code",
   "execution_count": 24,
   "id": "e0337fa5",
   "metadata": {
    "scrolled": true
   },
   "outputs": [
    {
     "name": "stdout",
     "output_type": "stream",
     "text": [
      "Write the first word:fer f\n",
      "Write the second word: ff f\n",
      "Nel\n"
     ]
    }
   ],
   "source": [
    "anagram()"
   ]
  },
  {
   "cell_type": "markdown",
   "id": "f883d743",
   "metadata": {},
   "source": [
    "## Pseudocode\n",
    "\n",
    "1. def anagram\n",
    "1. take word 1\n",
    "1. take word 2\n",
    "1. check length, if is equal\n",
    "    1. remove spaces\n",
    "    1. remove case sensitive\n",
    "        1. check if is a palindrome\n",
    "            1. print \"we have an anagram\"\n",
    "        1. if is not a palindrome\n",
    "            1. order the letters alphabetically\n",
    "                1. compare both words\n",
    "                1. ...\n",
    "1. if is not\n",
    "        1. print \"is not an anagram\""
   ]
  },
  {
   "cell_type": "code",
   "execution_count": 31,
   "id": "2e0ce6d0",
   "metadata": {},
   "outputs": [
    {
     "name": "stdout",
     "output_type": "stream",
     "text": [
      "['1', '2', '3', 'F', 'e', 'r']\n"
     ]
    }
   ],
   "source": [
    "a = \"Fer 1 2 3\"\n",
    "\n",
    "print (sorted(a.replace(\" \", \"\")))"
   ]
  },
  {
   "cell_type": "code",
   "execution_count": null,
   "id": "c3230b49",
   "metadata": {},
   "outputs": [],
   "source": []
  }
 ],
 "metadata": {
  "kernelspec": {
   "display_name": "Python 3 (ipykernel)",
   "language": "python",
   "name": "python3"
  },
  "language_info": {
   "codemirror_mode": {
    "name": "ipython",
    "version": 3
   },
   "file_extension": ".py",
   "mimetype": "text/x-python",
   "name": "python",
   "nbconvert_exporter": "python",
   "pygments_lexer": "ipython3",
   "version": "3.10.6"
  }
 },
 "nbformat": 4,
 "nbformat_minor": 5
}
